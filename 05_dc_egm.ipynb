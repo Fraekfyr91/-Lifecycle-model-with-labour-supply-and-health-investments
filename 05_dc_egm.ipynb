{
 "cells": [
  {
   "cell_type": "code",
   "execution_count": 1,
   "metadata": {},
   "outputs": [],
   "source": [
    "# magics: ensures that any changes to the modules loaded below will be re-loaded automatically\n",
    "import warnings\n",
    "# Set action = \"ignore\" to ignore warnings\n",
    "warnings.filterwarnings(action= 'ignore')\n",
    "# load general packages\n",
    "import numpy as np\n",
    "import matplotlib.pyplot as plt\n",
    "plt.style.use('seaborn-whitegrid')\n",
    "\n",
    "# load modules related to this exercise\n",
    "import tools \n",
    "from model_dc_multidim import model_dc_multidim\n",
    "import time"
   ]
  },
  {
   "cell_type": "code",
   "execution_count": null,
   "metadata": {
    "scrolled": true
   },
   "outputs": [
    {
     "name": "stdout",
     "output_type": "stream",
     "text": [
      "Evaluating period: 68\n",
      "Evaluating period: 67\n",
      "Evaluating period: 66\n",
      "Evaluating period: 65\n",
      "Evaluating period: 64\n",
      "Evaluating period: 63\n",
      "Evaluating period: 62\n",
      "Evaluating period: 61\n",
      "Evaluating period: 60\n",
      "Evaluating period: 59\n",
      "Evaluating period: 58\n",
      "Evaluating period: 57\n",
      "Evaluating period: 56\n",
      "Evaluating period: 55\n",
      "Evaluating period: 54\n",
      "Evaluating period: 53\n",
      "Evaluating period: 52\n",
      "Evaluating period: 51\n"
     ]
    }
   ],
   "source": [
    "t0 = time.time()  # set the starting time\n",
    "model = model_dc_multidim()\n",
    "model.setup()\n",
    "model.create_grids()\n",
    "model.solve()\n",
    "t1 = time.time() # set the ending time\n",
    "print(f'time: {t1-t0:.8} seconds') # print the total time"
   ]
  },
  {
   "cell_type": "code",
   "execution_count": null,
   "metadata": {},
   "outputs": [],
   "source": [
    "model.create_hour_bunches()"
   ]
  },
  {
   "cell_type": "code",
   "execution_count": null,
   "metadata": {},
   "outputs": [],
   "source": [
    "seed = np.random.seed(999)\n",
    "\n",
    "def human_capital(t, health):\n",
    "    # see plot, increases with age up untill a certain point\n",
    "    \n",
    "    inc0=0.75\n",
    "    inc1=0.04\n",
    "    inc2=0.0003\n",
    "    \n",
    "    age = t + 19\n",
    "    return( (health>0)*np.exp(health) * np.exp(inc0 + inc1*age - inc2*age**2))\n",
    "\n",
    "def simulate (model):\n",
    "    par = model.par\n",
    "    \n",
    "    sol = model.sol\n",
    "    sim = model.sim\n",
    "\n",
    "    \n",
    "    # Initialize\n",
    "    shape = (par.simT, par.simN)\n",
    "    sim.m = np.nan +np.zeros(shape)\n",
    "    sim.c = np.nan +np.zeros(shape)\n",
    "    sim.a = np.nan +np.zeros(shape)\n",
    "    sim.h = np.nan +np.zeros(shape)\n",
    "    \n",
    "    sim.Th = np.nan +np.zeros(shape)\n",
    "    sim.Tw = np.nan +np.zeros(shape)\n",
    "    sim.income = np.nan +np.zeros(shape)\n",
    "    sim.wage = np.nan +np.zeros(shape)\n",
    "    \n",
    "    sim.y = np.nan +np.zeros(shape)\n",
    "\n",
    "    par.Nshocks = par.xi.size * par.Na\n",
    "    # Shocks\n",
    "    \n",
    "    # 0.05\n",
    "    par.xi,par.xi_w = tools.GaussHermite_lognorm(0.05,par.Nxi)\n",
    "    shock = np.random.choice(par.xi, (par.T,par.simN),replace=True,p=par.xi_w) #draw values between 0 and Nshocks-1, with probability w\n",
    "    \n",
    "    sim.xi = shock\n",
    "\n",
    "    # Initial values\n",
    "    sim.m[0,:] = 10\n",
    "    sim.h[0,:] = np.random.uniform(1, 1, par.simN) \n",
    "\n",
    "    # Simulation \n",
    "    for t in range(par.simT):\n",
    "        V = np.zeros( (model.par.NT, model.par.simN) )\n",
    "        C = np.zeros( (model.par.NT, model.par.simN) )\n",
    "        for i, T_i in enumerate(model.par.T_boundles): # possible hour choices\n",
    "            C[i, :] =tools.interp_2d_vec(par.grid_m, par.grid_h, sol.c[t, i], sim.m[t, :], sim.h[t, :])\n",
    "            V[i, :] = tools.interp_2d_vec(par.grid_m , par.grid_h, sol.v[t, i ], sim.m[t, :], sim.h[t, :]) # value for every choice\n",
    "        \n",
    "        h_i = V.argmax(0) # index of best choice\n",
    "        sim.Th[t, :] = model.par.T_boundles[h_i][:, 0]\n",
    "        sim.Tw[t, :] = model.par.T_boundles[h_i][:, 1]\n",
    "        Cs = C[:, h_i][0, :] # magic to get all the best choices\n",
    "        \n",
    "        sim.c[t, :] = Cs\n",
    "        sim.a[t,:] = sim.m[t,:] - sim.c[t,:]\n",
    "        if t< par.simT-1:\n",
    "            \n",
    "            sim.h[t+1,:] = (1 - par.gamma + par.kappa * (sim.Th[t, :]) / (1000) -0.01 * (t > 40) ) * sim.h[t, :]\n",
    "            wage = human_capital(t, sim.h[t,:]) * sim.xi[t, :] # next period wage w. health effect on wage \n",
    "            sim.wage[t, :] = wage\n",
    "            sim.income[t,:] = wage * (sim.Tw[t, :]) / (3000)\n",
    "            \n",
    "            #print()\n",
    "            m_plus = par.R * sim.a[t, :] + wage * (sim.Tw[t, :]) / (3000)\n",
    "            \n",
    "            sim.m[t+1,:] = m_plus\n",
    "simulate(model)"
   ]
  },
  {
   "cell_type": "code",
   "execution_count": null,
   "metadata": {},
   "outputs": [],
   "source": [
    "def plot_simulation(range_):\n",
    "    '''\n",
    "    range_ (int): number of simaultaions (max 10)\n",
    "    '''\n",
    "    hs = []\n",
    "    tim = [range(range_)]\n",
    "    for i in range(range_):\n",
    "        h = model.sim.h[i, :]\n",
    "        h = np.average(h)\n",
    "        hs.append(h)\n",
    "    plt.plot(hs)\n",
    "    plt.show()\n",
    "plot_simulation(70)"
   ]
  },
  {
   "cell_type": "code",
   "execution_count": null,
   "metadata": {},
   "outputs": [],
   "source": [
    "def human_capital(t, h):\n",
    "    inc0=0.75\n",
    "    inc1=0.04\n",
    "    inc2=0.0003\n",
    "    \n",
    "    age = t + 19\n",
    "    return( (h>0)*np.exp(h) * np.exp(inc0 + inc1*age - inc2*age**2))\n",
    "\n",
    "for health in [0, 0.5, 1]:\n",
    "    hs = []\n",
    "    for i in range(70):\n",
    "        hs.append( human_capital(i, health) )\n",
    "    plt.plot(hs)"
   ]
  },
  {
   "cell_type": "code",
   "execution_count": null,
   "metadata": {},
   "outputs": [],
   "source": [
    "###### Figure\n",
    "def figure_multi_dim(par,sol,T,i_h):\n",
    "    \n",
    "    p = par.grid_h[i_h]\n",
    "    ts = [par.T, par.T-1, par.T-2, par.T-3, par.T-4]\n",
    "    fig = plt.figure(figsize=(8,5))\n",
    "    ax = fig.add_subplot(1,1,1)\n",
    "    \n",
    "    for i in ts:\n",
    "        ax.scatter(par.grid_m,sol.c[i-1,T,:,i_h], label=f't = {i}')\n",
    "    ax.set_xlabel(f\"$m_t$\")\n",
    "    ax.set_ylabel(f\"$c(m_t,z_{{t+1}} = {T}, health = {p:.3})$\")\n",
    "    ax.set_xlim([0, 5])\n",
    "    ax.set_ylim([-5,5])\n",
    "    ax.set_title(f'Consumption function')\n",
    "    plt.legend()\n",
    "    plt.show()\n",
    "\n",
    "figure_multi_dim(model.par,model.sol,0,25)\n",
    "figure_multi_dim(model.par,model.sol,2,25)\n",
    "figure_multi_dim(model.par,model.sol,5,50)"
   ]
  },
  {
   "cell_type": "code",
   "execution_count": null,
   "metadata": {},
   "outputs": [],
   "source": []
  },
  {
   "cell_type": "code",
   "execution_count": null,
   "metadata": {},
   "outputs": [],
   "source": []
  }
 ],
 "metadata": {
  "interpreter": {
   "hash": "d12e26f72a40d5c48233c54861fca038d6a92135fc0e5e920944e69c69b6b29d"
  },
  "kernelspec": {
   "display_name": "Python 3 (ipykernel)",
   "language": "python",
   "name": "python3"
  },
  "language_info": {
   "codemirror_mode": {
    "name": "ipython",
    "version": 3
   },
   "file_extension": ".py",
   "mimetype": "text/x-python",
   "name": "python",
   "nbconvert_exporter": "python",
   "pygments_lexer": "ipython3",
   "version": "3.9.7"
  }
 },
 "nbformat": 4,
 "nbformat_minor": 4
}

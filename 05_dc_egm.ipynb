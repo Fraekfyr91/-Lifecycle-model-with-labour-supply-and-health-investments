{
 "cells": [
  {
   "cell_type": "code",
   "execution_count": 1,
   "metadata": {},
   "outputs": [],
   "source": [
    "# magics: ensures that any changes to the modules loaded below will be re-loaded automatically\n",
    "import warnings\n",
    "# Set action = \"ignore\" to ignore warnings\n",
    "warnings.filterwarnings(action= 'ignore')\n",
    "# load general packages\n",
    "import numpy as np\n",
    "import matplotlib.pyplot as plt\n",
    "plt.style.use('seaborn-whitegrid')\n",
    "\n",
    "# load modules related to this exercise\n",
    "import tools \n",
    "from model_dc_multidim import model_dc_multidim\n",
    "import time"
   ]
  },
  {
   "cell_type": "code",
   "execution_count": null,
   "metadata": {},
   "outputs": [
    {
     "name": "stdout",
     "output_type": "stream",
     "text": [
      "Evaluating period: 3\n"
     ]
    }
   ],
   "source": [
    "t0 = time.time()  # set the starting time\n",
    "model = model_dc_multidim()\n",
    "model.setup()\n",
    "model.create_grids()\n",
    "model.solve()\n",
    "t1 = time.time() # set the ending time\n",
    "print(f'time: {t1-t0:.8} seconds') # print the total time"
   ]
  },
  {
   "cell_type": "code",
   "execution_count": null,
   "metadata": {},
   "outputs": [],
   "source": [
    "model.par.T"
   ]
  },
  {
   "cell_type": "code",
   "execution_count": null,
   "metadata": {},
   "outputs": [],
   "source": [
    "seed = np.random.seed(666)\n",
    "def simulate (model):\n",
    "    par = model.par\n",
    "    \n",
    "    sol = model.sol\n",
    "    sim = model.sim\n",
    "\n",
    "    \n",
    "    # Initialize\n",
    "    shape = (par.simT, par.simN)\n",
    "    sim.m = np.nan +np.zeros(shape)\n",
    "    sim.c = np.nan +np.zeros(shape)\n",
    "    sim.a = np.nan +np.zeros(shape)\n",
    "    sim.h = np.nan +np.zeros(shape)\n",
    "    \n",
    "    sim.Th = np.nan +np.zeros(shape)\n",
    "    sim.Tw = np.nan +np.zeros(shape)\n",
    "\n",
    "    sim.y = np.nan +np.zeros(shape)\n",
    "\n",
    "    par.Nshocks = par.xi.size * par.Na\n",
    "    # Shocks\n",
    "    \n",
    "    shock = np.random.choice(par.xi, (par.T,par.simN),replace=True,p=par.xi_w) #draw values between 0 and Nshocks-1, with probability w\n",
    "    \n",
    "    sim.xi = shock\n",
    "    #check it has a mean of 1\n",
    "    assert (abs(1-np.mean(sim.xi)) < 1e-4), 'The mean is not 1 in the simulation of xi'\n",
    "\n",
    "    # Initial values\n",
    "    sim.m[0,:] = par.sim_mini\n",
    "    sim.h[0,:] = 1 \n",
    "\n",
    "    # Simulation \n",
    "    for t in range(par.simT):\n",
    "        V = np.zeros( (model.par.NT, model.par.simN) )\n",
    "        C = np.zeros( (model.par.NT, model.par.simN) )\n",
    "        for i, T_i in enumerate(model.par.T_boundles): # possible hour choices\n",
    "            C[i, :] =tools.interp_2d_vec(par.grid_m, par.grid_h, sol.c[t, i], sim.m[t, :], sim.h[t, :])\n",
    "            V[i, :] = tools.interp_2d_vec(par.grid_m , par.grid_h, sol.v[t, i ], sim.m[t, :], sim.h[t, :]) # value for every choice\n",
    "        \n",
    "        h_i = V.argmax(0) # index of best choice\n",
    "        sim.Th[t, :] = model.par.T_boundles[h_i][:, 0]\n",
    "        sim.Tw[t, :] = model.par.T_boundles[h_i][:, 1]\n",
    "        Cs = C[:, h_i][0, :] # magic to get all the best choices\n",
    "        sim.c[t, :] = Cs\n",
    "        sim.a[t,:] = sim.m[t,:] - sim.c[t,:]\n",
    "        if t< par.simT-1:\n",
    "            sim.h[t+1,:] = (1 - par.gamma + par.kappa * (sim.Th[t, :]) / (1050)) * sim.h[t,:]\n",
    "            wage_plus = np.exp(sim.h[t+1,:]) * par.Rh * sim.xi[t, :] # next period wage w. health effect on wage \n",
    "            m_plus = par.R * sim.a[t, :] + wage_plus * (sim.Tw[t, :]) / (3000)\n",
    "            sim.m[t+1,:] = par.R * sim.a[t, :] + wage_plus * (sim.Tw[t, :]) / (3000)\n",
    "simulate(model)"
   ]
  },
  {
   "cell_type": "code",
   "execution_count": null,
   "metadata": {},
   "outputs": [],
   "source": [
    "model.sim"
   ]
  },
  {
   "cell_type": "code",
   "execution_count": null,
   "metadata": {},
   "outputs": [],
   "source": [
    "def plot_simulation(range_):\n",
    "    '''\n",
    "    range_ (int): number of simaultaions (max 10)\n",
    "    '''\n",
    "    hs = []\n",
    "    tim = [range(range_)]\n",
    "    for i in range(range_):\n",
    "        h = model.sim.h[i, :]\n",
    "        h = np.average(h)\n",
    "        hs.append(h)\n",
    "    plt.plot(hs)\n",
    "    plt.show()\n",
    "plot_simulation(5)"
   ]
  },
  {
   "cell_type": "code",
   "execution_count": null,
   "metadata": {},
   "outputs": [],
   "source": [
    "###### Figure\n",
    "def figure_multi_dim(par,sol,T,i_h):\n",
    "    \n",
    "    p = par.grid_h[i_h]\n",
    "    ts = [par.T, par.T-1, par.T-2, par.T-3, par.T-4]\n",
    "    fig = plt.figure(figsize=(8,5))\n",
    "    ax = fig.add_subplot(1,1,1)\n",
    "    \n",
    "    for i in ts:\n",
    "        ax.scatter(par.grid_m,sol.c[i-1,T,:,i_h], label=f't = {i}')\n",
    "    ax.set_xlabel(f\"$m_t$\")\n",
    "    ax.set_ylabel(f\"$c(m_t,z_{{t+1}} = {T}, health = {p:.3})$\")\n",
    "    ax.set_xlim([0, 5])\n",
    "    ax.set_ylim([-5,5])\n",
    "    ax.set_title(f'Consumption function')\n",
    "    plt.legend()\n",
    "    plt.show()\n",
    "\n",
    "figure_multi_dim(model.par,model.sol,0,25)\n",
    "figure_multi_dim(model.par,model.sol,2,25)\n",
    "figure_multi_dim(model.par,model.sol,5,50)"
   ]
  },
  {
   "cell_type": "code",
   "execution_count": null,
   "metadata": {},
   "outputs": [],
   "source": []
  },
  {
   "cell_type": "code",
   "execution_count": null,
   "metadata": {},
   "outputs": [],
   "source": []
  }
 ],
 "metadata": {
  "interpreter": {
   "hash": "d12e26f72a40d5c48233c54861fca038d6a92135fc0e5e920944e69c69b6b29d"
  },
  "kernelspec": {
   "display_name": "Python 3 (ipykernel)",
   "language": "python",
   "name": "python3"
  },
  "language_info": {
   "codemirror_mode": {
    "name": "ipython",
    "version": 3
   },
   "file_extension": ".py",
   "mimetype": "text/x-python",
   "name": "python",
   "nbconvert_exporter": "python",
   "pygments_lexer": "ipython3",
   "version": "3.9.7"
  }
 },
 "nbformat": 4,
 "nbformat_minor": 4
}

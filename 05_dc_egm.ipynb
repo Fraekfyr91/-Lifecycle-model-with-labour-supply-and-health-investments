{
 "cells": [
  {
   "cell_type": "code",
   "execution_count": 3,
   "metadata": {},
   "outputs": [],
   "source": [
    "# magics: ensures that any changes to the modules loaded below will be re-loaded automatically\n",
    "\n",
    "# load general packages\n",
    "import numpy as np\n",
    "import matplotlib.pyplot as plt\n",
    "plt.style.use('seaborn-whitegrid')\n",
    "\n",
    "# load modules related to this exercise\n",
    "import tools "
   ]
  },
  {
   "cell_type": "markdown",
   "metadata": {},
   "source": [
    "#### 5. Solve the extended model [THIS IS NOT EASY]\n",
    "Hint: You have an extra state variable, and you therefore have to make an outer loop for both z and p."
   ]
  },
  {
   "cell_type": "code",
   "execution_count": 4,
   "metadata": {},
   "outputs": [],
   "source": [
    "from model_dc_multidim import model_dc_multidim\n",
    "import time"
   ]
  },
  {
   "cell_type": "code",
   "execution_count": 5,
   "metadata": {},
   "outputs": [
    {
     "name": "stdout",
     "output_type": "stream",
     "text": [
      "[0.81181941 0.8681643  0.92028125 0.97219003 1.02603719 1.08391117\n",
      " 1.14897966 1.22872538]\n",
      "??\n"
     ]
    },
    {
     "ename": "IndexError",
     "evalue": "arrays used as indices must be of integer (or boolean) type",
     "output_type": "error",
     "traceback": [
      "\u001b[1;31m---------------------------------------------------------------------------\u001b[0m",
      "\u001b[1;31mIndexError\u001b[0m                                Traceback (most recent call last)",
      "Input \u001b[1;32mIn [5]\u001b[0m, in \u001b[0;36m<cell line: 5>\u001b[1;34m()\u001b[0m\n\u001b[0;32m      3\u001b[0m model\u001b[38;5;241m.\u001b[39msetup()\n\u001b[0;32m      4\u001b[0m model\u001b[38;5;241m.\u001b[39mcreate_grids()\n\u001b[1;32m----> 5\u001b[0m \u001b[43mmodel\u001b[49m\u001b[38;5;241;43m.\u001b[39;49m\u001b[43msolve\u001b[49m\u001b[43m(\u001b[49m\u001b[43m)\u001b[49m\n\u001b[0;32m      6\u001b[0m t1 \u001b[38;5;241m=\u001b[39m time\u001b[38;5;241m.\u001b[39mtime() \u001b[38;5;66;03m# set the ending time\u001b[39;00m\n\u001b[0;32m      7\u001b[0m \u001b[38;5;28mprint\u001b[39m(\u001b[38;5;124mf\u001b[39m\u001b[38;5;124m'\u001b[39m\u001b[38;5;124mtime: \u001b[39m\u001b[38;5;132;01m{\u001b[39;00mt1\u001b[38;5;241m-\u001b[39mt0\u001b[38;5;132;01m:\u001b[39;00m\u001b[38;5;124m.8\u001b[39m\u001b[38;5;132;01m}\u001b[39;00m\u001b[38;5;124m seconds\u001b[39m\u001b[38;5;124m'\u001b[39m)\n",
      "File \u001b[1;32m~\\GROSS\\model_dc_multidim.py:103\u001b[0m, in \u001b[0;36mmodel_dc_multidim.solve\u001b[1;34m(self)\u001b[0m\n\u001b[0;32m    101\u001b[0m \u001b[38;5;28;01mfor\u001b[39;00m i_p \u001b[38;5;129;01min\u001b[39;00m \u001b[38;5;28mrange\u001b[39m(par\u001b[38;5;241m.\u001b[39mNh):\n\u001b[0;32m    102\u001b[0m     \u001b[38;5;28;01mfor\u001b[39;00m T_plus \u001b[38;5;129;01min\u001b[39;00m par\u001b[38;5;241m.\u001b[39mT_boundles:\n\u001b[1;32m--> 103\u001b[0m         sol\u001b[38;5;241m.\u001b[39mm[par\u001b[38;5;241m.\u001b[39mT\u001b[38;5;241m-\u001b[39m\u001b[38;5;241m1\u001b[39m,T_plus,:,i_p] \u001b[38;5;241m=\u001b[39m par\u001b[38;5;241m.\u001b[39mgrid_m\n\u001b[0;32m    104\u001b[0m         sol\u001b[38;5;241m.\u001b[39mc[par\u001b[38;5;241m.\u001b[39mT\u001b[38;5;241m-\u001b[39m\u001b[38;5;241m1\u001b[39m,T_plus,:,i_p] \u001b[38;5;241m=\u001b[39m par\u001b[38;5;241m.\u001b[39mgrid_m\n\u001b[0;32m    105\u001b[0m         sol\u001b[38;5;241m.\u001b[39mv[par\u001b[38;5;241m.\u001b[39mT\u001b[38;5;241m-\u001b[39m\u001b[38;5;241m1\u001b[39m,T_plus,:,i_p] \u001b[38;5;241m=\u001b[39m egm\u001b[38;5;241m.\u001b[39mutil(sol\u001b[38;5;241m.\u001b[39mc[par\u001b[38;5;241m.\u001b[39mT\u001b[38;5;241m-\u001b[39m\u001b[38;5;241m1\u001b[39m,T_plus,:,i_p],T_plus,par)\n",
      "\u001b[1;31mIndexError\u001b[0m: arrays used as indices must be of integer (or boolean) type"
     ]
    }
   ],
   "source": [
    "t0 = time.time()  # set the starting time\n",
    "model = model_dc_multidim()\n",
    "model.setup()\n",
    "model.create_grids()\n",
    "model.solve()\n",
    "t1 = time.time() # set the ending time\n",
    "print(f'time: {t1-t0:.8} seconds') # print the total time"
   ]
  },
  {
   "cell_type": "code",
   "execution_count": null,
   "metadata": {},
   "outputs": [],
   "source": [
    "# Figure\n",
    "def figure_multi_dim(par,sol,z,i_p):\n",
    "    p = par.grid_p[i_p]\n",
    "    if z == 0:\n",
    "        print(f'Retire in t+1')\n",
    "        ts = [par.T, par.T-1, par.T-2, par.T-3, par.T-4]\n",
    "        print(f'p={p:.3}')\n",
    "    elif z ==1:\n",
    "        print(f'Working in t+1')\n",
    "        print(f'p={p:.3}')\n",
    "        ts = [par.T, par.T-1, par.T-2, par.T-3, par.T-4]\n",
    "    fig = plt.figure(figsize=(8,5))\n",
    "    ax = fig.add_subplot(1,1,1)\n",
    "    for i in ts:\n",
    "        ax.scatter(par.grid_m,sol.c[i-1,z,:,i_p], label=f't = {i}')\n",
    "    ax.set_xlabel(f\"$m_t$\")\n",
    "    ax.set_ylabel(f\"$c(m_t,z_{{t+1}} = {z}, p = {p:.3})$\")\n",
    "    ax.set_xlim([0, 5])\n",
    "    ax.set_ylim([0,3])\n",
    "    ax.set_title(f'Consumption function')\n",
    "    plt.legend()\n",
    "    plt.show()\n",
    "\n",
    "figure_multi_dim(model.par,model.sol,1,25)\n",
    "figure_multi_dim(model.par,model.sol,1,50)\n",
    "figure_multi_dim(model.par,model.sol,1,75)"
   ]
  },
  {
   "cell_type": "code",
   "execution_count": null,
   "metadata": {},
   "outputs": [],
   "source": []
  },
  {
   "cell_type": "code",
   "execution_count": null,
   "metadata": {},
   "outputs": [],
   "source": []
  },
  {
   "cell_type": "code",
   "execution_count": null,
   "metadata": {},
   "outputs": [],
   "source": []
  }
 ],
 "metadata": {
  "interpreter": {
   "hash": "d12e26f72a40d5c48233c54861fca038d6a92135fc0e5e920944e69c69b6b29d"
  },
  "kernelspec": {
   "display_name": "Python 3 (ipykernel)",
   "language": "python",
   "name": "python3"
  },
  "language_info": {
   "codemirror_mode": {
    "name": "ipython",
    "version": 3
   },
   "file_extension": ".py",
   "mimetype": "text/x-python",
   "name": "python",
   "nbconvert_exporter": "python",
   "pygments_lexer": "ipython3",
   "version": "3.9.12"
  }
 },
 "nbformat": 4,
 "nbformat_minor": 4
}
